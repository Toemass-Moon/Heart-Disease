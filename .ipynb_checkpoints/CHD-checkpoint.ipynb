{
 "cells": [
  {
   "cell_type": "code",
   "execution_count": 1,
   "id": "e1ef106f-f5ed-4d2e-9b26-9597fffdc914",
   "metadata": {},
   "outputs": [],
   "source": [
    "import pandas as pd\n",
    "import numpy as np\n",
    "import matplotlib.pyplot as plt\n",
    "import seaborn as sns \n",
    "import statsmodels.api as sm\n",
    "from sklearn.linear_model import LinearRegression, LogisticRegression, RidgeCV, LassoCV\n",
    "from sklearn.model_selection import train_test_split, cross_val_score\n",
    "from sklearn.metrics import mean_squared_error, confusion_matrix, plot_confusion_matrix\n",
    "from sklearn.preprocessing import StandardScaler\n",
    "from sklearn.neighbors import KNeighborsClassifier\n",
    "from sklearn.naive_bayes import BernoulliNB"
   ]
  },
  {
   "cell_type": "code",
   "execution_count": 2,
   "id": "784d30b5-d765-46e2-b4ed-b1553b6b4e32",
   "metadata": {},
   "outputs": [],
   "source": [
    "df = pd.read_csv('/Users/jenz/Desktop/PLACES__Census_Tract_Data__GIS_Friendly_Format___2020_release.csv')"
   ]
  },
  {
   "cell_type": "code",
   "execution_count": 3,
   "id": "7f114a1b-d2c2-4a15-ac8c-8a5c8422349c",
   "metadata": {},
   "outputs": [
    {
     "data": {
      "text/html": [
       "<div>\n",
       "<style scoped>\n",
       "    .dataframe tbody tr th:only-of-type {\n",
       "        vertical-align: middle;\n",
       "    }\n",
       "\n",
       "    .dataframe tbody tr th {\n",
       "        vertical-align: top;\n",
       "    }\n",
       "\n",
       "    .dataframe thead th {\n",
       "        text-align: right;\n",
       "    }\n",
       "</style>\n",
       "<table border=\"1\" class=\"dataframe\">\n",
       "  <thead>\n",
       "    <tr style=\"text-align: right;\">\n",
       "      <th></th>\n",
       "      <th>StateAbbr</th>\n",
       "      <th>StateDesc</th>\n",
       "      <th>CountyName</th>\n",
       "      <th>CountyFIPS</th>\n",
       "      <th>TractFIPS</th>\n",
       "      <th>TotalPopulation</th>\n",
       "      <th>ACCESS2_CrudePrev</th>\n",
       "      <th>ARTHRITIS_CrudePrev</th>\n",
       "      <th>BINGE_CrudePrev</th>\n",
       "      <th>BPHIGH_CrudePrev</th>\n",
       "      <th>...</th>\n",
       "      <th>HIGHCHOL_CrudePrev</th>\n",
       "      <th>KIDNEY_CrudePrev</th>\n",
       "      <th>LPA_CrudePrev</th>\n",
       "      <th>MAMMOUSE_CrudePrev</th>\n",
       "      <th>MHLTH_CrudePrev</th>\n",
       "      <th>OBESITY_CrudePrev</th>\n",
       "      <th>PHLTH_CrudePrev</th>\n",
       "      <th>SLEEP_CrudePrev</th>\n",
       "      <th>STROKE_CrudePrev</th>\n",
       "      <th>TEETHLOST_CrudePrev</th>\n",
       "    </tr>\n",
       "  </thead>\n",
       "  <tbody>\n",
       "    <tr>\n",
       "      <th>0</th>\n",
       "      <td>CA</td>\n",
       "      <td>California</td>\n",
       "      <td>Contra Costa</td>\n",
       "      <td>6013</td>\n",
       "      <td>6013312000</td>\n",
       "      <td>2292</td>\n",
       "      <td>20.2</td>\n",
       "      <td>26.5</td>\n",
       "      <td>14.0</td>\n",
       "      <td>34.1</td>\n",
       "      <td>...</td>\n",
       "      <td>31.0</td>\n",
       "      <td>4.1</td>\n",
       "      <td>29.4</td>\n",
       "      <td>79.8</td>\n",
       "      <td>16.8</td>\n",
       "      <td>33.3</td>\n",
       "      <td>18.4</td>\n",
       "      <td>40.1</td>\n",
       "      <td>5.0</td>\n",
       "      <td>22.0</td>\n",
       "    </tr>\n",
       "    <tr>\n",
       "      <th>1</th>\n",
       "      <td>CA</td>\n",
       "      <td>California</td>\n",
       "      <td>Contra Costa</td>\n",
       "      <td>6013</td>\n",
       "      <td>6013329000</td>\n",
       "      <td>6309</td>\n",
       "      <td>11.9</td>\n",
       "      <td>19.8</td>\n",
       "      <td>19.7</td>\n",
       "      <td>23.5</td>\n",
       "      <td>...</td>\n",
       "      <td>28.3</td>\n",
       "      <td>2.3</td>\n",
       "      <td>17.0</td>\n",
       "      <td>79.1</td>\n",
       "      <td>12.1</td>\n",
       "      <td>23.2</td>\n",
       "      <td>11.0</td>\n",
       "      <td>32.4</td>\n",
       "      <td>2.3</td>\n",
       "      <td>8.8</td>\n",
       "    </tr>\n",
       "    <tr>\n",
       "      <th>2</th>\n",
       "      <td>CA</td>\n",
       "      <td>California</td>\n",
       "      <td>Contra Costa</td>\n",
       "      <td>6013</td>\n",
       "      <td>6013346203</td>\n",
       "      <td>3838</td>\n",
       "      <td>5.1</td>\n",
       "      <td>24.2</td>\n",
       "      <td>16.9</td>\n",
       "      <td>26.0</td>\n",
       "      <td>...</td>\n",
       "      <td>32.2</td>\n",
       "      <td>2.5</td>\n",
       "      <td>12.3</td>\n",
       "      <td>81.3</td>\n",
       "      <td>9.0</td>\n",
       "      <td>20.7</td>\n",
       "      <td>9.5</td>\n",
       "      <td>27.7</td>\n",
       "      <td>2.4</td>\n",
       "      <td>4.8</td>\n",
       "    </tr>\n",
       "    <tr>\n",
       "      <th>3</th>\n",
       "      <td>CA</td>\n",
       "      <td>California</td>\n",
       "      <td>Los Angeles</td>\n",
       "      <td>6037</td>\n",
       "      <td>6037134421</td>\n",
       "      <td>3941</td>\n",
       "      <td>5.7</td>\n",
       "      <td>20.9</td>\n",
       "      <td>17.8</td>\n",
       "      <td>26.1</td>\n",
       "      <td>...</td>\n",
       "      <td>34.6</td>\n",
       "      <td>2.4</td>\n",
       "      <td>13.0</td>\n",
       "      <td>79.1</td>\n",
       "      <td>9.3</td>\n",
       "      <td>21.0</td>\n",
       "      <td>9.3</td>\n",
       "      <td>30.9</td>\n",
       "      <td>2.4</td>\n",
       "      <td>4.6</td>\n",
       "    </tr>\n",
       "    <tr>\n",
       "      <th>4</th>\n",
       "      <td>CA</td>\n",
       "      <td>California</td>\n",
       "      <td>Los Angeles</td>\n",
       "      <td>6037</td>\n",
       "      <td>6037135114</td>\n",
       "      <td>4445</td>\n",
       "      <td>9.0</td>\n",
       "      <td>18.6</td>\n",
       "      <td>17.2</td>\n",
       "      <td>24.2</td>\n",
       "      <td>...</td>\n",
       "      <td>30.5</td>\n",
       "      <td>2.6</td>\n",
       "      <td>16.0</td>\n",
       "      <td>79.0</td>\n",
       "      <td>11.3</td>\n",
       "      <td>21.7</td>\n",
       "      <td>10.3</td>\n",
       "      <td>34.5</td>\n",
       "      <td>2.6</td>\n",
       "      <td>7.6</td>\n",
       "    </tr>\n",
       "  </tbody>\n",
       "</table>\n",
       "<p>5 rows × 34 columns</p>\n",
       "</div>"
      ],
      "text/plain": [
       "  StateAbbr   StateDesc    CountyName  CountyFIPS   TractFIPS  \\\n",
       "0        CA  California  Contra Costa        6013  6013312000   \n",
       "1        CA  California  Contra Costa        6013  6013329000   \n",
       "2        CA  California  Contra Costa        6013  6013346203   \n",
       "3        CA  California   Los Angeles        6037  6037134421   \n",
       "4        CA  California   Los Angeles        6037  6037135114   \n",
       "\n",
       "   TotalPopulation  ACCESS2_CrudePrev  ARTHRITIS_CrudePrev  BINGE_CrudePrev  \\\n",
       "0             2292               20.2                 26.5             14.0   \n",
       "1             6309               11.9                 19.8             19.7   \n",
       "2             3838                5.1                 24.2             16.9   \n",
       "3             3941                5.7                 20.9             17.8   \n",
       "4             4445                9.0                 18.6             17.2   \n",
       "\n",
       "   BPHIGH_CrudePrev  ...  HIGHCHOL_CrudePrev  KIDNEY_CrudePrev  LPA_CrudePrev  \\\n",
       "0              34.1  ...                31.0               4.1           29.4   \n",
       "1              23.5  ...                28.3               2.3           17.0   \n",
       "2              26.0  ...                32.2               2.5           12.3   \n",
       "3              26.1  ...                34.6               2.4           13.0   \n",
       "4              24.2  ...                30.5               2.6           16.0   \n",
       "\n",
       "   MAMMOUSE_CrudePrev  MHLTH_CrudePrev  OBESITY_CrudePrev  PHLTH_CrudePrev  \\\n",
       "0                79.8             16.8               33.3             18.4   \n",
       "1                79.1             12.1               23.2             11.0   \n",
       "2                81.3              9.0               20.7              9.5   \n",
       "3                79.1              9.3               21.0              9.3   \n",
       "4                79.0             11.3               21.7             10.3   \n",
       "\n",
       "   SLEEP_CrudePrev  STROKE_CrudePrev  TEETHLOST_CrudePrev  \n",
       "0             40.1               5.0                 22.0  \n",
       "1             32.4               2.3                  8.8  \n",
       "2             27.7               2.4                  4.8  \n",
       "3             30.9               2.4                  4.6  \n",
       "4             34.5               2.6                  7.6  \n",
       "\n",
       "[5 rows x 34 columns]"
      ]
     },
     "execution_count": 3,
     "metadata": {},
     "output_type": "execute_result"
    }
   ],
   "source": [
    "df.head()"
   ]
  },
  {
   "cell_type": "code",
   "execution_count": 4,
   "id": "e3dd3c54-4541-41cd-9e02-387af2c4bfcc",
   "metadata": {},
   "outputs": [
    {
     "data": {
      "text/plain": [
       "(72337, 34)"
      ]
     },
     "execution_count": 4,
     "metadata": {},
     "output_type": "execute_result"
    }
   ],
   "source": [
    "df.shape"
   ]
  },
  {
   "cell_type": "code",
   "execution_count": 5,
   "id": "71eb2b39-42e5-4e62-aabb-0a58f4d810de",
   "metadata": {
    "tags": []
   },
   "outputs": [
    {
     "name": "stdout",
     "output_type": "stream",
     "text": [
      "<class 'pandas.core.frame.DataFrame'>\n",
      "RangeIndex: 72337 entries, 0 to 72336\n",
      "Data columns (total 34 columns):\n",
      " #   Column                  Non-Null Count  Dtype  \n",
      "---  ------                  --------------  -----  \n",
      " 0   StateAbbr               72337 non-null  object \n",
      " 1   StateDesc               72337 non-null  object \n",
      " 2   CountyName              72337 non-null  object \n",
      " 3   CountyFIPS              72337 non-null  int64  \n",
      " 4   TractFIPS               72337 non-null  int64  \n",
      " 5   TotalPopulation         72337 non-null  int64  \n",
      " 6   ACCESS2_CrudePrev       72337 non-null  float64\n",
      " 7   ARTHRITIS_CrudePrev     72337 non-null  float64\n",
      " 8   BINGE_CrudePrev         72337 non-null  float64\n",
      " 9   BPHIGH_CrudePrev        72337 non-null  float64\n",
      " 10  BPMED_CrudePrev         72337 non-null  float64\n",
      " 11  CANCER_CrudePrev        72337 non-null  float64\n",
      " 12  CASTHMA_CrudePrev       72337 non-null  float64\n",
      " 13  CERVICAL_CrudePrev      72320 non-null  float64\n",
      " 14  CHD_CrudePrev           72337 non-null  float64\n",
      " 15  CHECKUP_CrudePrev       72337 non-null  float64\n",
      " 16  CHOLSCREEN_CrudePrev    72337 non-null  float64\n",
      " 17  COLON_SCREEN_CrudePrev  72304 non-null  float64\n",
      " 18  COPD_CrudePrev          72337 non-null  float64\n",
      " 19  COREM_CrudePrev         72193 non-null  float64\n",
      " 20  COREW_CrudePrev         72142 non-null  float64\n",
      " 21  CSMOKING_CrudePrev      72337 non-null  float64\n",
      " 22  DENTAL_CrudePrev        72337 non-null  float64\n",
      " 23  DIABETES_CrudePrev      72337 non-null  float64\n",
      " 24  HIGHCHOL_CrudePrev      72337 non-null  float64\n",
      " 25  KIDNEY_CrudePrev        72337 non-null  float64\n",
      " 26  LPA_CrudePrev           72337 non-null  float64\n",
      " 27  MAMMOUSE_CrudePrev      72253 non-null  float64\n",
      " 28  MHLTH_CrudePrev         72337 non-null  float64\n",
      " 29  OBESITY_CrudePrev       72337 non-null  float64\n",
      " 30  PHLTH_CrudePrev         72337 non-null  float64\n",
      " 31  SLEEP_CrudePrev         72337 non-null  float64\n",
      " 32  STROKE_CrudePrev        72337 non-null  float64\n",
      " 33  TEETHLOST_CrudePrev     72238 non-null  float64\n",
      "dtypes: float64(28), int64(3), object(3)\n",
      "memory usage: 18.8+ MB\n"
     ]
    }
   ],
   "source": [
    "df.info()"
   ]
  },
  {
   "cell_type": "code",
   "execution_count": 6,
   "id": "322d1b53-1545-488a-99d6-9e0725082748",
   "metadata": {
    "tags": []
   },
   "outputs": [
    {
     "data": {
      "text/plain": [
       "StateAbbr                   0\n",
       "StateDesc                   0\n",
       "CountyName                  0\n",
       "CountyFIPS                  0\n",
       "TractFIPS                   0\n",
       "TotalPopulation             0\n",
       "ACCESS2_CrudePrev           0\n",
       "ARTHRITIS_CrudePrev         0\n",
       "BINGE_CrudePrev             0\n",
       "BPHIGH_CrudePrev            0\n",
       "BPMED_CrudePrev             0\n",
       "CANCER_CrudePrev            0\n",
       "CASTHMA_CrudePrev           0\n",
       "CERVICAL_CrudePrev         17\n",
       "CHD_CrudePrev               0\n",
       "CHECKUP_CrudePrev           0\n",
       "CHOLSCREEN_CrudePrev        0\n",
       "COLON_SCREEN_CrudePrev     33\n",
       "COPD_CrudePrev              0\n",
       "COREM_CrudePrev           144\n",
       "COREW_CrudePrev           195\n",
       "CSMOKING_CrudePrev          0\n",
       "DENTAL_CrudePrev            0\n",
       "DIABETES_CrudePrev          0\n",
       "HIGHCHOL_CrudePrev          0\n",
       "KIDNEY_CrudePrev            0\n",
       "LPA_CrudePrev               0\n",
       "MAMMOUSE_CrudePrev         84\n",
       "MHLTH_CrudePrev             0\n",
       "OBESITY_CrudePrev           0\n",
       "PHLTH_CrudePrev             0\n",
       "SLEEP_CrudePrev             0\n",
       "STROKE_CrudePrev            0\n",
       "TEETHLOST_CrudePrev        99\n",
       "dtype: int64"
      ]
     },
     "execution_count": 6,
     "metadata": {},
     "output_type": "execute_result"
    }
   ],
   "source": [
    "df.isnull().sum()"
   ]
  },
  {
   "cell_type": "code",
   "execution_count": 7,
   "id": "00e59c01-173b-4ac4-811d-8cea80b10167",
   "metadata": {},
   "outputs": [],
   "source": [
    "# Dropped all null values since it's a small amount of the data\n",
    "df.dropna(axis = 0, how = 'any', inplace = True)"
   ]
  },
  {
   "cell_type": "code",
   "execution_count": 8,
   "id": "c59e70e3-53ff-48d2-b527-fc6a155d7cb0",
   "metadata": {
    "tags": []
   },
   "outputs": [
    {
     "data": {
      "text/plain": [
       "5.6     1480\n",
       "5.7     1450\n",
       "5.5     1442\n",
       "5.4     1403\n",
       "5.9     1393\n",
       "        ... \n",
       "19.5       1\n",
       "26.7       1\n",
       "21.6       1\n",
       "21.1       1\n",
       "23.1       1\n",
       "Name: CHD_CrudePrev, Length: 202, dtype: int64"
      ]
     },
     "execution_count": 8,
     "metadata": {},
     "output_type": "execute_result"
    }
   ],
   "source": [
    "df['CHD_CrudePrev'].value_counts()"
   ]
  },
  {
   "cell_type": "code",
   "execution_count": 9,
   "id": "8cb21ff5-f0f9-4be7-a37b-a60a48967da1",
   "metadata": {},
   "outputs": [
    {
     "data": {
      "image/png": "[encoded data removed]",
      "text/plain": [
       "<Figure size 1440x1080 with 36 Axes>"
      ]
     },
     "metadata": {
      "needs_background": "light"
     },
     "output_type": "display_data"
    }
   ],
   "source": [
    "df.hist(figsize = (20,15), grid = False);\n",
    "plt.tight_layout();"
   ]
  },
  {
   "cell_type": "code",
   "execution_count": 10,
   "id": "3b622b81-74f1-4b89-9591-1a5b8adc6c20",
   "metadata": {},
   "outputs": [],
   "source": [
    "dummy = pd.get_dummies(df, columns = ['StateAbbr'], drop_first = True)"
   ]
  },
  {
   "cell_type": "code",
   "execution_count": 11,
   "id": "e23b96a2-ff17-476e-b62a-2eb010b5de83",
   "metadata": {},
   "outputs": [],
   "source": [
    "df = pd.merge(df,dummy)"
   ]
  },
  {
   "cell_type": "code",
   "execution_count": 12,
   "id": "147d339a-b7ec-4065-85fc-1acd270143c7",
   "metadata": {},
   "outputs": [],
   "source": [
    "df.drop(columns = ['StateAbbr'], inplace = True)"
   ]
  },
  {
   "cell_type": "markdown",
   "id": "1840036b-178a-4bee-9ecd-5ecca492fa21",
   "metadata": {},
   "source": [
    "### Regression EDA"
   ]
  },
  {
   "cell_type": "code",
   "execution_count": 13,
   "id": "21c09663-e0c6-4fdd-b245-243cfe0abb38",
   "metadata": {},
   "outputs": [],
   "source": [
    "corr = df.corr()[['CHD_CrudePrev']]\n",
    "corr = corr.loc[corr['CHD_CrudePrev'] > .3]"
   ]
  },
  {
   "cell_type": "code",
   "execution_count": 14,
   "id": "84494f5b-64a3-4ef6-a405-d3c97530d987",
   "metadata": {},
   "outputs": [
    {
     "data": {
      "image/png": "[encoded data removed]",
      "text/plain": [
       "<Figure size 576x720 with 2 Axes>"
      ]
     },
     "metadata": {
      "needs_background": "light"
     },
     "output_type": "display_data"
    }
   ],
   "source": [
    "plt.figure(figsize = (8,10))\n",
    "sns.heatmap(data = corr.sort_values(by = 'CHD_CrudePrev', ascending = False),\n",
    "           annot = True,\n",
    "           cmap = 'Reds',\n",
    "           linewidths=0.1,\n",
    "           vmin=-0.5,\n",
    "           vmax=1);"
   ]
  },
  {
   "cell_type": "code",
   "execution_count": 15,
   "id": "e76b9550-9658-47a8-8c41-04078fcf255c",
   "metadata": {},
   "outputs": [
    {
     "data": {
      "image/png": "[encoded data removed]",
      "text/plain": [
       "<Figure size 720x360 with 1 Axes>"
      ]
     },
     "metadata": {
      "needs_background": "light"
     },
     "output_type": "display_data"
    }
   ],
   "source": [
    "plt.figure(figsize = (10,5))\n",
    "sns.regplot(x= 'COPD_CrudePrev', y= 'CHD_CrudePrev', data= df, )\n",
    "plt.title('CHD & COP Crude Prevalence', size = 15, pad = 10),\n",
    "plt.xlabel(xlabel = 'COPD', size = 15)\n",
    "plt.ylabel(ylabel = 'CHD', size = 15);"
   ]
  },
  {
   "cell_type": "code",
   "execution_count": 16,
   "id": "db994a8c-2e00-4b5b-b699-78451f13d17f",
   "metadata": {},
   "outputs": [
    {
     "data": {
      "image/png": "[encoded data removed]",
      "text/plain": [
       "<Figure size 720x360 with 1 Axes>"
      ]
     },
     "metadata": {
      "needs_background": "light"
     },
     "output_type": "display_data"
    }
   ],
   "source": [
    "plt.figure(figsize = (10,5))\n",
    "sns.regplot(x= 'KIDNEY_CrudePrev', y= 'CHD_CrudePrev', data= df)\n",
    "plt.title('CHD & Kidney Crude Prevalence', size = 15, pad = 10),\n",
    "plt.xlabel(xlabel = 'Kidney', size = 15)\n",
    "plt.ylabel(ylabel = 'CHD', size = 15);"
   ]
  },
  {
   "cell_type": "markdown",
   "id": "53f92f47-803b-44f1-8f8f-0fa9c8b504d7",
   "metadata": {},
   "source": [
    "### Modeling "
   ]
  },
  {
   "cell_type": "code",
   "execution_count": 17,
   "id": "29931a81-376a-4101-970b-4482ac8ab4cc",
   "metadata": {},
   "outputs": [],
   "source": [
    "reg = df"
   ]
  },
  {
   "cell_type": "code",
   "execution_count": 18,
   "id": "c432d993-f0b2-4f99-b95f-73a8155d4d23",
   "metadata": {},
   "outputs": [],
   "source": [
    "X = reg._get_numeric_data().drop(columns = 'CHD_CrudePrev')\n",
    "y = reg['CHD_CrudePrev']"
   ]
  },
  {
   "cell_type": "code",
   "execution_count": 19,
   "id": "29a68949-60d5-4c48-a3a6-45e1180b12b0",
   "metadata": {},
   "outputs": [],
   "source": [
    "X_train, X_test, y_train, y_test = train_test_split(X,y, random_state = 321)"
   ]
  },
  {
   "cell_type": "markdown",
   "id": "f8599557-98e1-4b0e-8aae-45d1a5a92398",
   "metadata": {},
   "source": [
    "#### Baseline"
   ]
  },
  {
   "cell_type": "code",
   "execution_count": 20,
   "id": "5da8d056-6afc-4996-8a67-22d8a8a384e1",
   "metadata": {},
   "outputs": [],
   "source": [
    "y_train_baseline = [y_train.mean()]*len(y_train)\n",
    "y_test_baseline = [y_train.mean()]*len(y_test)"
   ]
  },
  {
   "cell_type": "code",
   "execution_count": 21,
   "id": "0e0521f0-7f6e-4c79-9f7b-8d88c89eaed8",
   "metadata": {},
   "outputs": [
    {
     "name": "stdout",
     "output_type": "stream",
     "text": [
      "Baseline Train RMSE: 2.19696252491771\n",
      "Baseline Test RMSE: 2.180286114686622\n"
     ]
    }
   ],
   "source": [
    "print(f'Baseline Train RMSE: {mean_squared_error(y_train,y_train_baseline) ** 0.5}')\n",
    "print(f'Baseline Test RMSE: {mean_squared_error(y_test, y_test_baseline) ** 0.5}')"
   ]
  },
  {
   "cell_type": "markdown",
   "id": "2f34c529-3687-4b48-b86d-17910944c274",
   "metadata": {},
   "source": [
    "#### Linear Regression"
   ]
  },
  {
   "cell_type": "code",
   "execution_count": 22,
   "id": "5bdb2d65-cfab-4327-b151-92634899571c",
   "metadata": {},
   "outputs": [
    {
     "data": {
      "text/plain": [
       "LinearRegression()"
      ]
     },
     "execution_count": 22,
     "metadata": {},
     "output_type": "execute_result"
    }
   ],
   "source": [
    "lr = LinearRegression()\n",
    "lr.fit(X_train, y_train)"
   ]
  },
  {
   "cell_type": "code",
   "execution_count": 23,
   "id": "2148f982-b751-4fc3-8489-e8954d83cbbf",
   "metadata": {},
   "outputs": [
    {
     "name": "stdout",
     "output_type": "stream",
     "text": [
      "Linear Reg Train R2: 0.9914051973607064\n",
      "Linear Reg Test R2: 0.9910158956184081\n"
     ]
    }
   ],
   "source": [
    "print(f'Linear Reg Train R2: {lr.score(X_train, y_train)}')\n",
    "print(f'Linear Reg Test R2: {lr.score(X_test, y_test)}')"
   ]
  },
  {
   "cell_type": "code",
   "execution_count": 24,
   "id": "db776700-532c-462d-a157-9b20fcb7cb9e",
   "metadata": {},
   "outputs": [
    {
     "data": {
      "text/plain": [
       "0.9913593242590532"
      ]
     },
     "execution_count": 24,
     "metadata": {},
     "output_type": "execute_result"
    }
   ],
   "source": [
    "cross_val_score(LinearRegression(),X_train,y_train,cv = 20, scoring = 'r2').mean()"
   ]
  },
  {
   "cell_type": "code",
   "execution_count": 25,
   "id": "f728f9f6-18ca-4077-8483-7e034783adb6",
   "metadata": {},
   "outputs": [],
   "source": [
    "# Setting Predictions\n",
    "train_preds = lr.predict(X_train)\n",
    "test_preds = lr.predict(X_test)"
   ]
  },
  {
   "cell_type": "code",
   "execution_count": 26,
   "id": "5e7f1f10-f4c4-4082-a25b-cba54b981065",
   "metadata": {},
   "outputs": [
    {
     "name": "stdout",
     "output_type": "stream",
     "text": [
      "Linear Reg Train RMSE: 0.20367634982261199\n",
      "Linear Reg Test RMSE: 0.20665098031109586\n"
     ]
    }
   ],
   "source": [
    "print(f'Linear Reg Train RMSE: {mean_squared_error(y_train, train_preds)**0.5}')\n",
    "print(f'Linear Reg Test RMSE: {mean_squared_error(y_test, test_preds)**0.5}')"
   ]
  },
  {
   "cell_type": "markdown",
   "id": "18457fd3-e450-4f0a-833b-1812a49da997",
   "metadata": {},
   "source": [
    "#### Ridge "
   ]
  },
  {
   "cell_type": "code",
   "execution_count": 27,
   "id": "de937e4a-bb3d-46da-a95c-ee7aaa532bc2",
   "metadata": {},
   "outputs": [],
   "source": [
    "ss = StandardScaler()\n",
    "Z_train = ss.fit_transform(X_train)\n",
    "Z_test = ss.transform(X_test)"
   ]
  },
  {
   "cell_type": "code",
   "execution_count": 28,
   "id": "b1bc8e09-1c5e-45ca-a730-f212fd0adab8",
   "metadata": {},
   "outputs": [
    {
     "data": {
      "text/plain": [
       "RidgeCV(alphas=array([1.00000000e+00, 3.19926714e+00, 1.02353102e+01, 3.27454916e+01,\n",
       "       1.04761575e+02, 3.35160265e+02, 1.07226722e+03, 3.43046929e+03,\n",
       "       1.09749877e+04, 3.51119173e+04, 1.12332403e+05, 3.59381366e+05,\n",
       "       1.14975700e+06, 3.67837977e+06, 1.17681195e+07, 3.76493581e+07,\n",
       "       1.20450354e+08, 3.85352859e+08, 1.23284674e+09, 3.94420606e+09,\n",
       "       1.26185688e+10, 4.03701726e+1...\n",
       "       2.42012826e+38, 7.74263683e+38, 2.47707636e+39, 7.92482898e+39,\n",
       "       2.53536449e+40, 8.11130831e+40, 2.59502421e+41, 8.30217568e+41,\n",
       "       2.65608778e+42, 8.49753436e+42, 2.71858824e+43, 8.69749003e+43,\n",
       "       2.78255940e+44, 8.90215085e+44, 2.84803587e+45, 9.11162756e+45,\n",
       "       2.91505306e+46, 9.32603347e+46, 2.98364724e+47, 9.54548457e+47,\n",
       "       3.05385551e+48, 9.77009957e+48, 3.12571585e+49, 1.00000000e+50]),\n",
       "        cv=5, scoring='r2')"
      ]
     },
     "execution_count": 28,
     "metadata": {},
     "output_type": "execute_result"
    }
   ],
   "source": [
    "ridge_cv = RidgeCV(alphas = np.logspace(0,50,100), scoring = 'r2', cv = 5)\n",
    "ridge_cv.fit(Z_train, y_train)"
   ]
  },
  {
   "cell_type": "code",
   "execution_count": 29,
   "id": "31a463dd-7a4f-4e2d-8615-0460ad847743",
   "metadata": {},
   "outputs": [
    {
     "name": "stdout",
     "output_type": "stream",
     "text": [
      "Ridge Train R2: 0.9913892323673925\n",
      "Ridge Test R2: 0.9910030854610383\n"
     ]
    }
   ],
   "source": [
    "print(f'Ridge Train R2: {ridge_cv.score(Z_train, y_train)}')\n",
    "print(f'Ridge Test R2: {ridge_cv.score(Z_test, y_test)}')"
   ]
  },
  {
   "cell_type": "code",
   "execution_count": 30,
   "id": "1b261920-afc8-43e5-8747-273b1d3979d5",
   "metadata": {},
   "outputs": [],
   "source": [
    "ridge_train_preds = ridge_cv.predict(Z_train)\n",
    "ridge_test_preds = ridge_cv.predict(Z_test)"
   ]
  },
  {
   "cell_type": "code",
   "execution_count": 31,
   "id": "0e5cb185-ab20-44a5-ad64-74fe9bec5954",
   "metadata": {},
   "outputs": [
    {
     "name": "stdout",
     "output_type": "stream",
     "text": [
      "Ridge Train RMSE: 0.20386542821580636\n",
      "Ridge Test RMSE: 0.206798256460542\n"
     ]
    }
   ],
   "source": [
    "print(f'Ridge Train RMSE: {mean_squared_error(y_train, ridge_train_preds) ** 0.5}')\n",
    "print(f'Ridge Test RMSE: {mean_squared_error(y_test, ridge_test_preds) ** 0.5}')"
   ]
  },
  {
   "cell_type": "markdown",
   "id": "a041a4bc-e725-491c-84cc-8faeb67366a9",
   "metadata": {},
   "source": [
    "#### Lasso"
   ]
  },
  {
   "cell_type": "code",
   "execution_count": 32,
   "id": "6260e7a0-62aa-4385-a4d9-77c80b925157",
   "metadata": {},
   "outputs": [],
   "source": [
    "ss = StandardScaler()\n",
    "Z_train = ss.fit_transform(X_train)\n",
    "Z_test = ss.transform(X_test)"
   ]
  },
  {
   "cell_type": "code",
   "execution_count": 33,
   "id": "a58d0269-5ca4-4dcb-b03c-6cdeb68e4339",
   "metadata": {},
   "outputs": [
    {
     "data": {
      "text/plain": [
       "LassoCV(cv=5)"
      ]
     },
     "execution_count": 33,
     "metadata": {},
     "output_type": "execute_result"
    }
   ],
   "source": [
    "lasso = LassoCV(cv = 5)\n",
    "lasso.fit(Z_train, y_train)"
   ]
  },
  {
   "cell_type": "code",
   "execution_count": 34,
   "id": "d505b41c-00e8-4aff-a60b-eedcfea93cf0",
   "metadata": {},
   "outputs": [
    {
     "name": "stdout",
     "output_type": "stream",
     "text": [
      "Lasso Train R2: 0.9909851443319065\n",
      "Lasso Test R2: 0.9906091458162534\n"
     ]
    }
   ],
   "source": [
    "print(f'Lasso Train R2: {lasso.score(Z_train, y_train)}')\n",
    "print(f'Lasso Test R2: {lasso.score(Z_test, y_test)}')"
   ]
  },
  {
   "cell_type": "code",
   "execution_count": 35,
   "id": "531bcd34-ab65-4a7a-b868-0dbfe1dab554",
   "metadata": {},
   "outputs": [],
   "source": [
    "lasso_train_preds = lasso.predict(Z_train)\n",
    "lasso_test_preds = lasso.predict(Z_test)"
   ]
  },
  {
   "cell_type": "code",
   "execution_count": 36,
   "id": "04972669-2628-41a7-a049-ba4abd281c6c",
   "metadata": {},
   "outputs": [
    {
     "name": "stdout",
     "output_type": "stream",
     "text": [
      "Lasso Train RMSE: 0.20859410837627823\n",
      "Lasso Test RMSE: 0.2112771957045974\n"
     ]
    }
   ],
   "source": [
    "print(f'Lasso Train RMSE: {mean_squared_error(y_train, lasso_train_preds) ** 0.5}')\n",
    "print(f'Lasso Test RMSE: {mean_squared_error(y_test, lasso_test_preds) ** 0.5}')"
   ]
  },
  {
   "cell_type": "code",
   "execution_count": 37,
   "id": "24652c12-fc28-40d2-8a4d-e2323c6c675e",
   "metadata": {
    "tags": []
   },
   "outputs": [
    {
     "data": {
      "text/html": [
       "<table class=\"simpletable\">\n",
       "<caption>OLS Regression Results</caption>\n",
       "<tr>\n",
       "  <th>Dep. Variable:</th>      <td>CHD_CrudePrev</td>  <th>  R-squared:         </th> <td>   0.990</td> \n",
       "</tr>\n",
       "<tr>\n",
       "  <th>Model:</th>                   <td>OLS</td>       <th>  Adj. R-squared:    </th> <td>   0.990</td> \n",
       "</tr>\n",
       "<tr>\n",
       "  <th>Method:</th>             <td>Least Squares</td>  <th>  F-statistic:       </th> <td>6.688e+04</td>\n",
       "</tr>\n",
       "<tr>\n",
       "  <th>Date:</th>             <td>Tue, 26 Oct 2021</td> <th>  Prob (F-statistic):</th>  <td>  0.00</td>  \n",
       "</tr>\n",
       "<tr>\n",
       "  <th>Time:</th>                 <td>09:19:36</td>     <th>  Log-Likelihood:    </th> <td>  4569.2</td> \n",
       "</tr>\n",
       "<tr>\n",
       "  <th>No. Observations:</th>      <td> 54070</td>      <th>  AIC:               </th> <td>  -8980.</td> \n",
       "</tr>\n",
       "<tr>\n",
       "  <th>Df Residuals:</th>          <td> 53991</td>      <th>  BIC:               </th> <td>  -8277.</td> \n",
       "</tr>\n",
       "<tr>\n",
       "  <th>Df Model:</th>              <td>    78</td>      <th>                     </th>     <td> </td>    \n",
       "</tr>\n",
       "<tr>\n",
       "  <th>Covariance Type:</th>      <td>nonrobust</td>    <th>                     </th>     <td> </td>    \n",
       "</tr>\n",
       "</table>\n",
       "<table class=\"simpletable\">\n",
       "<tr>\n",
       "             <td></td>               <th>coef</th>     <th>std err</th>      <th>t</th>      <th>P>|t|</th>  <th>[0.025</th>    <th>0.975]</th>  \n",
       "</tr>\n",
       "<tr>\n",
       "  <th>CountyFIPS</th>             <td>   -0.0538</td> <td>    0.003</td> <td>  -16.881</td> <td> 0.000</td> <td>   -0.060</td> <td>   -0.048</td>\n",
       "</tr>\n",
       "<tr>\n",
       "  <th>TractFIPS</th>              <td> 5.416e-08</td> <td> 3.19e-09</td> <td>   16.995</td> <td> 0.000</td> <td> 4.79e-08</td> <td> 6.04e-08</td>\n",
       "</tr>\n",
       "<tr>\n",
       "  <th>TotalPopulation</th>        <td>   4.3e-07</td> <td> 5.28e-07</td> <td>    0.814</td> <td> 0.416</td> <td>-6.05e-07</td> <td> 1.47e-06</td>\n",
       "</tr>\n",
       "<tr>\n",
       "  <th>ACCESS2_CrudePrev</th>      <td>    0.0012</td> <td>    0.001</td> <td>    2.099</td> <td> 0.036</td> <td> 8.01e-05</td> <td>    0.002</td>\n",
       "</tr>\n",
       "<tr>\n",
       "  <th>ARTHRITIS_CrudePrev</th>    <td>    0.0259</td> <td>    0.001</td> <td>   26.911</td> <td> 0.000</td> <td>    0.024</td> <td>    0.028</td>\n",
       "</tr>\n",
       "<tr>\n",
       "  <th>BINGE_CrudePrev</th>        <td>    0.0378</td> <td>    0.001</td> <td>   48.244</td> <td> 0.000</td> <td>    0.036</td> <td>    0.039</td>\n",
       "</tr>\n",
       "<tr>\n",
       "  <th>BPHIGH_CrudePrev</th>       <td>   -0.0056</td> <td>    0.001</td> <td>   -7.070</td> <td> 0.000</td> <td>   -0.007</td> <td>   -0.004</td>\n",
       "</tr>\n",
       "<tr>\n",
       "  <th>BPMED_CrudePrev</th>        <td>    0.0007</td> <td>    0.001</td> <td>    1.321</td> <td> 0.186</td> <td>   -0.000</td> <td>    0.002</td>\n",
       "</tr>\n",
       "<tr>\n",
       "  <th>CANCER_CrudePrev</th>       <td>    0.2233</td> <td>    0.003</td> <td>   67.938</td> <td> 0.000</td> <td>    0.217</td> <td>    0.230</td>\n",
       "</tr>\n",
       "<tr>\n",
       "  <th>CASTHMA_CrudePrev</th>      <td>   -0.2744</td> <td>    0.003</td> <td>  -91.843</td> <td> 0.000</td> <td>   -0.280</td> <td>   -0.269</td>\n",
       "</tr>\n",
       "<tr>\n",
       "  <th>CERVICAL_CrudePrev</th>     <td>   -0.0254</td> <td>    0.001</td> <td>  -33.651</td> <td> 0.000</td> <td>   -0.027</td> <td>   -0.024</td>\n",
       "</tr>\n",
       "<tr>\n",
       "  <th>CHECKUP_CrudePrev</th>      <td>    0.0307</td> <td>    0.001</td> <td>   28.500</td> <td> 0.000</td> <td>    0.029</td> <td>    0.033</td>\n",
       "</tr>\n",
       "<tr>\n",
       "  <th>CHOLSCREEN_CrudePrev</th>   <td>   -0.0404</td> <td>    0.001</td> <td>  -42.026</td> <td> 0.000</td> <td>   -0.042</td> <td>   -0.039</td>\n",
       "</tr>\n",
       "<tr>\n",
       "  <th>COLON_SCREEN_CrudePrev</th> <td>    0.0014</td> <td>    0.001</td> <td>    2.544</td> <td> 0.011</td> <td>    0.000</td> <td>    0.002</td>\n",
       "</tr>\n",
       "<tr>\n",
       "  <th>COPD_CrudePrev</th>         <td>    0.4926</td> <td>    0.003</td> <td>  159.985</td> <td> 0.000</td> <td>    0.487</td> <td>    0.499</td>\n",
       "</tr>\n",
       "<tr>\n",
       "  <th>COREM_CrudePrev</th>        <td>   -0.0034</td> <td>    0.000</td> <td>   -7.188</td> <td> 0.000</td> <td>   -0.004</td> <td>   -0.003</td>\n",
       "</tr>\n",
       "<tr>\n",
       "  <th>COREW_CrudePrev</th>        <td>   -0.0012</td> <td>    0.001</td> <td>   -2.388</td> <td> 0.017</td> <td>   -0.002</td> <td>   -0.000</td>\n",
       "</tr>\n",
       "<tr>\n",
       "  <th>CSMOKING_CrudePrev</th>     <td>   -0.0088</td> <td>    0.001</td> <td>   -8.912</td> <td> 0.000</td> <td>   -0.011</td> <td>   -0.007</td>\n",
       "</tr>\n",
       "<tr>\n",
       "  <th>DENTAL_CrudePrev</th>       <td>    0.0158</td> <td>    0.001</td> <td>   29.532</td> <td> 0.000</td> <td>    0.015</td> <td>    0.017</td>\n",
       "</tr>\n",
       "<tr>\n",
       "  <th>DIABETES_CrudePrev</th>     <td>    0.0038</td> <td>    0.002</td> <td>    1.847</td> <td> 0.065</td> <td>   -0.000</td> <td>    0.008</td>\n",
       "</tr>\n",
       "<tr>\n",
       "  <th>HIGHCHOL_CrudePrev</th>     <td>    0.0024</td> <td>    0.001</td> <td>    2.480</td> <td> 0.013</td> <td>    0.000</td> <td>    0.004</td>\n",
       "</tr>\n",
       "<tr>\n",
       "  <th>KIDNEY_CrudePrev</th>       <td>    1.2286</td> <td>    0.013</td> <td>   96.524</td> <td> 0.000</td> <td>    1.204</td> <td>    1.254</td>\n",
       "</tr>\n",
       "<tr>\n",
       "  <th>LPA_CrudePrev</th>          <td>    0.0195</td> <td>    0.001</td> <td>   22.954</td> <td> 0.000</td> <td>    0.018</td> <td>    0.021</td>\n",
       "</tr>\n",
       "<tr>\n",
       "  <th>MAMMOUSE_CrudePrev</th>     <td>    0.0078</td> <td>    0.001</td> <td>   12.911</td> <td> 0.000</td> <td>    0.007</td> <td>    0.009</td>\n",
       "</tr>\n",
       "<tr>\n",
       "  <th>MHLTH_CrudePrev</th>        <td>   -0.0414</td> <td>    0.002</td> <td>  -17.799</td> <td> 0.000</td> <td>   -0.046</td> <td>   -0.037</td>\n",
       "</tr>\n",
       "<tr>\n",
       "  <th>OBESITY_CrudePrev</th>      <td>    0.0013</td> <td>    0.000</td> <td>    2.860</td> <td> 0.004</td> <td>    0.000</td> <td>    0.002</td>\n",
       "</tr>\n",
       "<tr>\n",
       "  <th>PHLTH_CrudePrev</th>        <td>    0.0297</td> <td>    0.003</td> <td>   10.797</td> <td> 0.000</td> <td>    0.024</td> <td>    0.035</td>\n",
       "</tr>\n",
       "<tr>\n",
       "  <th>SLEEP_CrudePrev</th>        <td>   -0.0015</td> <td>    0.001</td> <td>   -2.241</td> <td> 0.025</td> <td>   -0.003</td> <td>   -0.000</td>\n",
       "</tr>\n",
       "<tr>\n",
       "  <th>STROKE_CrudePrev</th>       <td>   -0.1149</td> <td>    0.009</td> <td>  -12.917</td> <td> 0.000</td> <td>   -0.132</td> <td>   -0.097</td>\n",
       "</tr>\n",
       "<tr>\n",
       "  <th>TEETHLOST_CrudePrev</th>    <td>   -0.0028</td> <td>    0.001</td> <td>   -3.341</td> <td> 0.001</td> <td>   -0.004</td> <td>   -0.001</td>\n",
       "</tr>\n",
       "<tr>\n",
       "  <th>StateAbbr_AL</th>           <td>    0.9427</td> <td>    0.029</td> <td>   32.758</td> <td> 0.000</td> <td>    0.886</td> <td>    0.999</td>\n",
       "</tr>\n",
       "<tr>\n",
       "  <th>StateAbbr_AR</th>           <td>   -0.3976</td> <td>    0.043</td> <td>   -9.190</td> <td> 0.000</td> <td>   -0.482</td> <td>   -0.313</td>\n",
       "</tr>\n",
       "<tr>\n",
       "  <th>StateAbbr_AZ</th>           <td>   -0.2206</td> <td>    0.033</td> <td>   -6.629</td> <td> 0.000</td> <td>   -0.286</td> <td>   -0.155</td>\n",
       "</tr>\n",
       "<tr>\n",
       "  <th>StateAbbr_CA</th>           <td>   -1.2599</td> <td>    0.054</td> <td>  -23.341</td> <td> 0.000</td> <td>   -1.366</td> <td>   -1.154</td>\n",
       "</tr>\n",
       "<tr>\n",
       "  <th>StateAbbr_CO</th>           <td>   -1.7064</td> <td>    0.077</td> <td>  -22.206</td> <td> 0.000</td> <td>   -1.857</td> <td>   -1.556</td>\n",
       "</tr>\n",
       "<tr>\n",
       "  <th>StateAbbr_CT</th>           <td>   -2.1268</td> <td>    0.087</td> <td>  -24.479</td> <td> 0.000</td> <td>   -2.297</td> <td>   -1.957</td>\n",
       "</tr>\n",
       "<tr>\n",
       "  <th>StateAbbr_DC</th>           <td>   -3.3939</td> <td>    0.111</td> <td>  -30.477</td> <td> 0.000</td> <td>   -3.612</td> <td>   -3.176</td>\n",
       "</tr>\n",
       "<tr>\n",
       "  <th>StateAbbr_DE</th>           <td>   -2.9629</td> <td>    0.100</td> <td>  -29.727</td> <td> 0.000</td> <td>   -3.158</td> <td>   -2.768</td>\n",
       "</tr>\n",
       "<tr>\n",
       "  <th>StateAbbr_FL</th>           <td>   -3.5760</td> <td>    0.123</td> <td>  -29.142</td> <td> 0.000</td> <td>   -3.817</td> <td>   -3.336</td>\n",
       "</tr>\n",
       "<tr>\n",
       "  <th>StateAbbr_GA</th>           <td>   -4.0321</td> <td>    0.136</td> <td>  -29.655</td> <td> 0.000</td> <td>   -4.299</td> <td>   -3.766</td>\n",
       "</tr>\n",
       "<tr>\n",
       "  <th>StateAbbr_HI</th>           <td>   -4.1142</td> <td>    0.159</td> <td>  -25.874</td> <td> 0.000</td> <td>   -4.426</td> <td>   -3.803</td>\n",
       "</tr>\n",
       "<tr>\n",
       "  <th>StateAbbr_IA</th>           <td>   -6.2760</td> <td>    0.208</td> <td>  -30.178</td> <td> 0.000</td> <td>   -6.684</td> <td>   -5.868</td>\n",
       "</tr>\n",
       "<tr>\n",
       "  <th>StateAbbr_ID</th>           <td>   -4.5392</td> <td>    0.173</td> <td>  -26.222</td> <td> 0.000</td> <td>   -4.878</td> <td>   -4.200</td>\n",
       "</tr>\n",
       "<tr>\n",
       "  <th>StateAbbr_IL</th>           <td>   -5.5864</td> <td>    0.184</td> <td>  -30.429</td> <td> 0.000</td> <td>   -5.946</td> <td>   -5.227</td>\n",
       "</tr>\n",
       "<tr>\n",
       "  <th>StateAbbr_IN</th>           <td>   -6.0647</td> <td>    0.196</td> <td>  -31.018</td> <td> 0.000</td> <td>   -6.448</td> <td>   -5.681</td>\n",
       "</tr>\n",
       "<tr>\n",
       "  <th>StateAbbr_KS</th>           <td>   -6.2315</td> <td>    0.221</td> <td>  -28.202</td> <td> 0.000</td> <td>   -6.665</td> <td>   -5.798</td>\n",
       "</tr>\n",
       "<tr>\n",
       "  <th>StateAbbr_KY</th>           <td>   -6.6229</td> <td>    0.233</td> <td>  -28.471</td> <td> 0.000</td> <td>   -7.079</td> <td>   -6.167</td>\n",
       "</tr>\n",
       "<tr>\n",
       "  <th>StateAbbr_LA</th>           <td>   -7.4517</td> <td>    0.243</td> <td>  -30.722</td> <td> 0.000</td> <td>   -7.927</td> <td>   -6.976</td>\n",
       "</tr>\n",
       "<tr>\n",
       "  <th>StateAbbr_MA</th>           <td>   -8.0288</td> <td>    0.279</td> <td>  -28.801</td> <td> 0.000</td> <td>   -8.575</td> <td>   -7.482</td>\n",
       "</tr>\n",
       "<tr>\n",
       "  <th>StateAbbr_MD</th>           <td>   -7.9194</td> <td>    0.269</td> <td>  -29.457</td> <td> 0.000</td> <td>   -8.446</td> <td>   -7.392</td>\n",
       "</tr>\n",
       "<tr>\n",
       "  <th>StateAbbr_ME</th>           <td>   -6.6642</td> <td>    0.256</td> <td>  -26.056</td> <td> 0.000</td> <td>   -7.165</td> <td>   -6.163</td>\n",
       "</tr>\n",
       "<tr>\n",
       "  <th>StateAbbr_MI</th>           <td>   -8.7082</td> <td>    0.292</td> <td>  -29.795</td> <td> 0.000</td> <td>   -9.281</td> <td>   -8.135</td>\n",
       "</tr>\n",
       "<tr>\n",
       "  <th>StateAbbr_MN</th>           <td>   -8.8115</td> <td>    0.305</td> <td>  -28.914</td> <td> 0.000</td> <td>   -9.409</td> <td>   -8.214</td>\n",
       "</tr>\n",
       "<tr>\n",
       "  <th>StateAbbr_MO</th>           <td>  -10.0190</td> <td>    0.329</td> <td>  -30.434</td> <td> 0.000</td> <td>  -10.664</td> <td>   -9.374</td>\n",
       "</tr>\n",
       "<tr>\n",
       "  <th>StateAbbr_MS</th>           <td>   -9.0588</td> <td>    0.317</td> <td>  -28.612</td> <td> 0.000</td> <td>   -9.679</td> <td>   -8.438</td>\n",
       "</tr>\n",
       "<tr>\n",
       "  <th>StateAbbr_MT</th>           <td>   -9.9229</td> <td>    0.342</td> <td>  -29.010</td> <td> 0.000</td> <td>  -10.593</td> <td>   -9.252</td>\n",
       "</tr>\n",
       "<tr>\n",
       "  <th>StateAbbr_NC</th>           <td>  -12.6126</td> <td>    0.426</td> <td>  -29.602</td> <td> 0.000</td> <td>  -13.448</td> <td>  -11.777</td>\n",
       "</tr>\n",
       "<tr>\n",
       "  <th>StateAbbr_ND</th>           <td>  -12.5512</td> <td>    0.439</td> <td>  -28.582</td> <td> 0.000</td> <td>  -13.412</td> <td>  -11.690</td>\n",
       "</tr>\n",
       "<tr>\n",
       "  <th>StateAbbr_NE</th>           <td>  -10.7908</td> <td>    0.354</td> <td>  -30.467</td> <td> 0.000</td> <td>  -11.485</td> <td>  -10.097</td>\n",
       "</tr>\n",
       "<tr>\n",
       "  <th>StateAbbr_NH</th>           <td>  -11.2294</td> <td>    0.377</td> <td>  -29.765</td> <td> 0.000</td> <td>  -11.969</td> <td>  -10.490</td>\n",
       "</tr>\n",
       "<tr>\n",
       "  <th>StateAbbr_NJ</th>           <td>  -11.4158</td> <td>    0.388</td> <td>  -29.408</td> <td> 0.000</td> <td>  -12.177</td> <td>  -10.655</td>\n",
       "</tr>\n",
       "<tr>\n",
       "  <th>StateAbbr_NM</th>           <td>  -11.6870</td> <td>    0.403</td> <td>  -29.007</td> <td> 0.000</td> <td>  -12.477</td> <td>  -10.897</td>\n",
       "</tr>\n",
       "<tr>\n",
       "  <th>StateAbbr_NV</th>           <td>  -10.8647</td> <td>    0.366</td> <td>  -29.712</td> <td> 0.000</td> <td>  -11.581</td> <td>  -10.148</td>\n",
       "</tr>\n",
       "<tr>\n",
       "  <th>StateAbbr_NY</th>           <td>  -12.2491</td> <td>    0.413</td> <td>  -29.640</td> <td> 0.000</td> <td>  -13.059</td> <td>  -11.439</td>\n",
       "</tr>\n",
       "<tr>\n",
       "  <th>StateAbbr_OH</th>           <td>  -13.5863</td> <td>    0.450</td> <td>  -30.179</td> <td> 0.000</td> <td>  -14.469</td> <td>  -12.704</td>\n",
       "</tr>\n",
       "<tr>\n",
       "  <th>StateAbbr_OK</th>           <td>  -12.9112</td> <td>    0.464</td> <td>  -27.848</td> <td> 0.000</td> <td>  -13.820</td> <td>  -12.002</td>\n",
       "</tr>\n",
       "<tr>\n",
       "  <th>StateAbbr_OR</th>           <td>  -13.7754</td> <td>    0.475</td> <td>  -28.974</td> <td> 0.000</td> <td>  -14.707</td> <td>  -12.844</td>\n",
       "</tr>\n",
       "<tr>\n",
       "  <th>StateAbbr_PA</th>           <td>  -14.5536</td> <td>    0.486</td> <td>  -29.936</td> <td> 0.000</td> <td>  -15.507</td> <td>  -13.601</td>\n",
       "</tr>\n",
       "<tr>\n",
       "  <th>StateAbbr_RI</th>           <td>  -14.9708</td> <td>    0.510</td> <td>  -29.378</td> <td> 0.000</td> <td>  -15.970</td> <td>  -13.972</td>\n",
       "</tr>\n",
       "<tr>\n",
       "  <th>StateAbbr_SC</th>           <td>  -15.7667</td> <td>    0.523</td> <td>  -30.164</td> <td> 0.000</td> <td>  -16.791</td> <td>  -14.742</td>\n",
       "</tr>\n",
       "<tr>\n",
       "  <th>StateAbbr_SD</th>           <td>  -15.4621</td> <td>    0.537</td> <td>  -28.819</td> <td> 0.000</td> <td>  -16.514</td> <td>  -14.411</td>\n",
       "</tr>\n",
       "<tr>\n",
       "  <th>StateAbbr_TN</th>           <td>  -16.3230</td> <td>    0.548</td> <td>  -29.796</td> <td> 0.000</td> <td>  -17.397</td> <td>  -15.249</td>\n",
       "</tr>\n",
       "<tr>\n",
       "  <th>StateAbbr_TX</th>           <td>  -16.4020</td> <td>    0.562</td> <td>  -29.161</td> <td> 0.000</td> <td>  -17.504</td> <td>  -15.300</td>\n",
       "</tr>\n",
       "<tr>\n",
       "  <th>StateAbbr_UT</th>           <td>  -16.9211</td> <td>    0.574</td> <td>  -29.465</td> <td> 0.000</td> <td>  -18.047</td> <td>  -15.795</td>\n",
       "</tr>\n",
       "<tr>\n",
       "  <th>StateAbbr_VA</th>           <td>  -18.0639</td> <td>    0.599</td> <td>  -30.166</td> <td> 0.000</td> <td>  -19.238</td> <td>  -16.890</td>\n",
       "</tr>\n",
       "<tr>\n",
       "  <th>StateAbbr_VT</th>           <td>  -17.3423</td> <td>    0.585</td> <td>  -29.659</td> <td> 0.000</td> <td>  -18.488</td> <td>  -16.196</td>\n",
       "</tr>\n",
       "<tr>\n",
       "  <th>StateAbbr_WA</th>           <td>  -18.0358</td> <td>    0.622</td> <td>  -28.976</td> <td> 0.000</td> <td>  -19.256</td> <td>  -16.816</td>\n",
       "</tr>\n",
       "<tr>\n",
       "  <th>StateAbbr_WI</th>           <td>  -19.4918</td> <td>    0.644</td> <td>  -30.247</td> <td> 0.000</td> <td>  -20.755</td> <td>  -18.229</td>\n",
       "</tr>\n",
       "<tr>\n",
       "  <th>StateAbbr_WV</th>           <td>  -18.6439</td> <td>    0.632</td> <td>  -29.486</td> <td> 0.000</td> <td>  -19.883</td> <td>  -17.405</td>\n",
       "</tr>\n",
       "<tr>\n",
       "  <th>StateAbbr_WY</th>           <td>  -19.6801</td> <td>    0.659</td> <td>  -29.867</td> <td> 0.000</td> <td>  -20.972</td> <td>  -18.389</td>\n",
       "</tr>\n",
       "</table>\n",
       "<table class=\"simpletable\">\n",
       "<tr>\n",
       "  <th>Omnibus:</th>       <td>14989.425</td> <th>  Durbin-Watson:     </th>  <td>   2.012</td> \n",
       "</tr>\n",
       "<tr>\n",
       "  <th>Prob(Omnibus):</th>  <td> 0.000</td>   <th>  Jarque-Bera (JB):  </th> <td>325046.528</td>\n",
       "</tr>\n",
       "<tr>\n",
       "  <th>Skew:</th>           <td> 0.817</td>   <th>  Prob(JB):          </th>  <td>    0.00</td> \n",
       "</tr>\n",
       "<tr>\n",
       "  <th>Kurtosis:</th>       <td>14.900</td>   <th>  Cond. No.          </th>  <td>9.07e+13</td> \n",
       "</tr>\n",
       "</table><br/><br/>Notes:<br/>[1] Standard Errors assume that the covariance matrix of the errors is correctly specified.<br/>[2] The condition number is large, 9.07e+13. This might indicate that there are<br/>strong multicollinearity or other numerical problems."
      ],
      "text/plain": [
       "<class 'statsmodels.iolib.summary.Summary'>\n",
       "\"\"\"\n",
       "                            OLS Regression Results                            \n",
       "==============================================================================\n",
       "Dep. Variable:          CHD_CrudePrev   R-squared:                       0.990\n",
       "Model:                            OLS   Adj. R-squared:                  0.990\n",
       "Method:                 Least Squares   F-statistic:                 6.688e+04\n",
       "Date:                Tue, 26 Oct 2021   Prob (F-statistic):               0.00\n",
       "Time:                        09:19:36   Log-Likelihood:                 4569.2\n",
       "No. Observations:               54070   AIC:                            -8980.\n",
       "Df Residuals:                   53991   BIC:                            -8277.\n",
       "Df Model:                          78                                         \n",
       "Covariance Type:            nonrobust                                         \n",
       "==========================================================================================\n",
       "                             coef    std err          t      P>|t|      [0.025      0.975]\n",
       "------------------------------------------------------------------------------------------\n",
       "CountyFIPS                -0.0538      0.003    -16.881      0.000      -0.060      -0.048\n",
       "TractFIPS               5.416e-08   3.19e-09     16.995      0.000    4.79e-08    6.04e-08\n",
       "TotalPopulation           4.3e-07   5.28e-07      0.814      0.416   -6.05e-07    1.47e-06\n",
       "ACCESS2_CrudePrev          0.0012      0.001      2.099      0.036    8.01e-05       0.002\n",
       "ARTHRITIS_CrudePrev        0.0259      0.001     26.911      0.000       0.024       0.028\n",
       "BINGE_CrudePrev            0.0378      0.001     48.244      0.000       0.036       0.039\n",
       "BPHIGH_CrudePrev          -0.0056      0.001     -7.070      0.000      -0.007      -0.004\n",
       "BPMED_CrudePrev            0.0007      0.001      1.321      0.186      -0.000       0.002\n",
       "CANCER_CrudePrev           0.2233      0.003     67.938      0.000       0.217       0.230\n",
       "CASTHMA_CrudePrev         -0.2744      0.003    -91.843      0.000      -0.280      -0.269\n",
       "CERVICAL_CrudePrev        -0.0254      0.001    -33.651      0.000      -0.027      -0.024\n",
       "CHECKUP_CrudePrev          0.0307      0.001     28.500      0.000       0.029       0.033\n",
       "CHOLSCREEN_CrudePrev      -0.0404      0.001    -42.026      0.000      -0.042      -0.039\n",
       "COLON_SCREEN_CrudePrev     0.0014      0.001      2.544      0.011       0.000       0.002\n",
       "COPD_CrudePrev             0.4926      0.003    159.985      0.000       0.487       0.499\n",
       "COREM_CrudePrev           -0.0034      0.000     -7.188      0.000      -0.004      -0.003\n",
       "COREW_CrudePrev           -0.0012      0.001     -2.388      0.017      -0.002      -0.000\n",
       "CSMOKING_CrudePrev        -0.0088      0.001     -8.912      0.000      -0.011      -0.007\n",
       "DENTAL_CrudePrev           0.0158      0.001     29.532      0.000       0.015       0.017\n",
       "DIABETES_CrudePrev         0.0038      0.002      1.847      0.065      -0.000       0.008\n",
       "HIGHCHOL_CrudePrev         0.0024      0.001      2.480      0.013       0.000       0.004\n",
       "KIDNEY_CrudePrev           1.2286      0.013     96.524      0.000       1.204       1.254\n",
       "LPA_CrudePrev              0.0195      0.001     22.954      0.000       0.018       0.021\n",
       "MAMMOUSE_CrudePrev         0.0078      0.001     12.911      0.000       0.007       0.009\n",
       "MHLTH_CrudePrev           -0.0414      0.002    -17.799      0.000      -0.046      -0.037\n",
       "OBESITY_CrudePrev          0.0013      0.000      2.860      0.004       0.000       0.002\n",
       "PHLTH_CrudePrev            0.0297      0.003     10.797      0.000       0.024       0.035\n",
       "SLEEP_CrudePrev           -0.0015      0.001     -2.241      0.025      -0.003      -0.000\n",
       "STROKE_CrudePrev          -0.1149      0.009    -12.917      0.000      -0.132      -0.097\n",
       "TEETHLOST_CrudePrev       -0.0028      0.001     -3.341      0.001      -0.004      -0.001\n",
       "StateAbbr_AL               0.9427      0.029     32.758      0.000       0.886       0.999\n",
       "StateAbbr_AR              -0.3976      0.043     -9.190      0.000      -0.482      -0.313\n",
       "StateAbbr_AZ              -0.2206      0.033     -6.629      0.000      -0.286      -0.155\n",
       "StateAbbr_CA              -1.2599      0.054    -23.341      0.000      -1.366      -1.154\n",
       "StateAbbr_CO              -1.7064      0.077    -22.206      0.000      -1.857      -1.556\n",
       "StateAbbr_CT              -2.1268      0.087    -24.479      0.000      -2.297      -1.957\n",
       "StateAbbr_DC              -3.3939      0.111    -30.477      0.000      -3.612      -3.176\n",
       "StateAbbr_DE              -2.9629      0.100    -29.727      0.000      -3.158      -2.768\n",
       "StateAbbr_FL              -3.5760      0.123    -29.142      0.000      -3.817      -3.336\n",
       "StateAbbr_GA              -4.0321      0.136    -29.655      0.000      -4.299      -3.766\n",
       "StateAbbr_HI              -4.1142      0.159    -25.874      0.000      -4.426      -3.803\n",
       "StateAbbr_IA              -6.2760      0.208    -30.178      0.000      -6.684      -5.868\n",
       "StateAbbr_ID              -4.5392      0.173    -26.222      0.000      -4.878      -4.200\n",
       "StateAbbr_IL              -5.5864      0.184    -30.429      0.000      -5.946      -5.227\n",
       "StateAbbr_IN              -6.0647      0.196    -31.018      0.000      -6.448      -5.681\n",
       "StateAbbr_KS              -6.2315      0.221    -28.202      0.000      -6.665      -5.798\n",
       "StateAbbr_KY              -6.6229      0.233    -28.471      0.000      -7.079      -6.167\n",
       "StateAbbr_LA              -7.4517      0.243    -30.722      0.000      -7.927      -6.976\n",
       "StateAbbr_MA              -8.0288      0.279    -28.801      0.000      -8.575      -7.482\n",
       "StateAbbr_MD              -7.9194      0.269    -29.457      0.000      -8.446      -7.392\n",
       "StateAbbr_ME              -6.6642      0.256    -26.056      0.000      -7.165      -6.163\n",
       "StateAbbr_MI              -8.7082      0.292    -29.795      0.000      -9.281      -8.135\n",
       "StateAbbr_MN              -8.8115      0.305    -28.914      0.000      -9.409      -8.214\n",
       "StateAbbr_MO             -10.0190      0.329    -30.434      0.000     -10.664      -9.374\n",
       "StateAbbr_MS              -9.0588      0.317    -28.612      0.000      -9.679      -8.438\n",
       "StateAbbr_MT              -9.9229      0.342    -29.010      0.000     -10.593      -9.252\n",
       "StateAbbr_NC             -12.6126      0.426    -29.602      0.000     -13.448     -11.777\n",
       "StateAbbr_ND             -12.5512      0.439    -28.582      0.000     -13.412     -11.690\n",
       "StateAbbr_NE             -10.7908      0.354    -30.467      0.000     -11.485     -10.097\n",
       "StateAbbr_NH             -11.2294      0.377    -29.765      0.000     -11.969     -10.490\n",
       "StateAbbr_NJ             -11.4158      0.388    -29.408      0.000     -12.177     -10.655\n",
       "StateAbbr_NM             -11.6870      0.403    -29.007      0.000     -12.477     -10.897\n",
       "StateAbbr_NV             -10.8647      0.366    -29.712      0.000     -11.581     -10.148\n",
       "StateAbbr_NY             -12.2491      0.413    -29.640      0.000     -13.059     -11.439\n",
       "StateAbbr_OH             -13.5863      0.450    -30.179      0.000     -14.469     -12.704\n",
       "StateAbbr_OK             -12.9112      0.464    -27.848      0.000     -13.820     -12.002\n",
       "StateAbbr_OR             -13.7754      0.475    -28.974      0.000     -14.707     -12.844\n",
       "StateAbbr_PA             -14.5536      0.486    -29.936      0.000     -15.507     -13.601\n",
       "StateAbbr_RI             -14.9708      0.510    -29.378      0.000     -15.970     -13.972\n",
       "StateAbbr_SC             -15.7667      0.523    -30.164      0.000     -16.791     -14.742\n",
       "StateAbbr_SD             -15.4621      0.537    -28.819      0.000     -16.514     -14.411\n",
       "StateAbbr_TN             -16.3230      0.548    -29.796      0.000     -17.397     -15.249\n",
       "StateAbbr_TX             -16.4020      0.562    -29.161      0.000     -17.504     -15.300\n",
       "StateAbbr_UT             -16.9211      0.574    -29.465      0.000     -18.047     -15.795\n",
       "StateAbbr_VA             -18.0639      0.599    -30.166      0.000     -19.238     -16.890\n",
       "StateAbbr_VT             -17.3423      0.585    -29.659      0.000     -18.488     -16.196\n",
       "StateAbbr_WA             -18.0358      0.622    -28.976      0.000     -19.256     -16.816\n",
       "StateAbbr_WI             -19.4918      0.644    -30.247      0.000     -20.755     -18.229\n",
       "StateAbbr_WV             -18.6439      0.632    -29.486      0.000     -19.883     -17.405\n",
       "StateAbbr_WY             -19.6801      0.659    -29.867      0.000     -20.972     -18.389\n",
       "==============================================================================\n",
       "Omnibus:                    14989.425   Durbin-Watson:                   2.012\n",
       "Prob(Omnibus):                  0.000   Jarque-Bera (JB):           325046.528\n",
       "Skew:                           0.817   Prob(JB):                         0.00\n",
       "Kurtosis:                      14.900   Cond. No.                     9.07e+13\n",
       "==============================================================================\n",
       "\n",
       "Notes:\n",
       "[1] Standard Errors assume that the covariance matrix of the errors is correctly specified.\n",
       "[2] The condition number is large, 9.07e+13. This might indicate that there are\n",
       "strong multicollinearity or other numerical problems.\n",
       "\"\"\""
      ]
     },
     "execution_count": 37,
     "metadata": {},
     "output_type": "execute_result"
    }
   ],
   "source": [
    "ols = sm.OLS(y_train, X_train).fit()\n",
    "ols.summary()"
   ]
  },
  {
   "cell_type": "markdown",
   "id": "45008934-4ace-493b-b6ff-35b92339c312",
   "metadata": {},
   "source": [
    "#### Regression Results: "
   ]
  },
  {
   "cell_type": "code",
   "execution_count": 38,
   "id": "a8f2ea17-99f6-4401-bfdc-6b495fdcce7a",
   "metadata": {},
   "outputs": [
    {
     "name": "stdout",
     "output_type": "stream",
     "text": [
      "Linear Reg Train R2: 0.9914051973607064\n",
      "Linear Reg Test R2: 0.9910158956184081\n",
      "Linear Reg Train RMSE: 0.20367634982261199\n",
      "Linear Reg Test RMSE: 0.20665098031109586\n",
      "------------------\n",
      "Ridge Train R2: 0.9913892323673925\n",
      "Ridge Test R2: 0.9910030854610383\n",
      "Ridge Train RMSE: 0.20386542821580636\n",
      "Ridge Test RMSE: 0.206798256460542\n",
      "------------------\n",
      "Lasso Train R2: 0.9909851443319065\n",
      "Lasso Test R2: 0.9906091458162534\n",
      "Lasso Train RMSE: 0.20859410837627823\n",
      "Lasso Test RMSE: 0.2112771957045974\n"
     ]
    }
   ],
   "source": [
    "print(f'Linear Reg Train R2: {lr.score(X_train, y_train)}')\n",
    "print(f'Linear Reg Test R2: {lr.score(X_test, y_test)}')\n",
    "print(f'Linear Reg Train RMSE: {mean_squared_error(y_train, train_preds)**0.5}')\n",
    "print(f'Linear Reg Test RMSE: {mean_squared_error(y_test, test_preds)**0.5}')\n",
    "print('------------------')\n",
    "print(f'Ridge Train R2: {ridge_cv.score(Z_train, y_train)}')\n",
    "print(f'Ridge Test R2: {ridge_cv.score(Z_test, y_test)}')\n",
    "print(f'Ridge Train RMSE: {mean_squared_error(y_train, ridge_train_preds) ** 0.5}')\n",
    "print(f'Ridge Test RMSE: {mean_squared_error(y_test, ridge_test_preds) ** 0.5}')\n",
    "print('------------------')\n",
    "print(f'Lasso Train R2: {lasso.score(Z_train, y_train)}')\n",
    "print(f'Lasso Test R2: {lasso.score(Z_test, y_test)}')\n",
    "print(f'Lasso Train RMSE: {mean_squared_error(y_train, lasso_train_preds) ** 0.5}')\n",
    "print(f'Lasso Test RMSE: {mean_squared_error(y_test, lasso_test_preds) ** 0.5}')"
   ]
  },
  {
   "cell_type": "markdown",
   "id": "753475d7-5b6a-4cdd-bec1-6cf2d436719a",
   "metadata": {},
   "source": [
    "### Classification"
   ]
  },
  {
   "cell_type": "code",
   "execution_count": 39,
   "id": "2e2fbc28-0e13-44d3-bfd3-f56f2c8adf73",
   "metadata": {},
   "outputs": [
    {
     "data": {
      "text/plain": [
       "(72094, 83)"
      ]
     },
     "execution_count": 39,
     "metadata": {},
     "output_type": "execute_result"
    }
   ],
   "source": [
    "df.shape"
   ]
  },
  {
   "cell_type": "code",
   "execution_count": 40,
   "id": "039651b0-30b1-4cab-8b39-554cdfdb308b",
   "metadata": {
    "tags": []
   },
   "outputs": [],
   "source": [
    "chd = []\n",
    "\n",
    "for i in df['CHD_CrudePrev']:\n",
    "    if i < 10: \n",
    "        chd.append(0)  # Low\n",
    "    elif i >= 10: \n",
    "        chd.append(1)  # Intermediate to High\n",
    "\n",
    "df['CHD_CrudePrev'] = chd"
   ]
  },
  {
   "cell_type": "code",
   "execution_count": 41,
   "id": "286f365e-807b-4211-b1c0-cbe7ae6b622b",
   "metadata": {},
   "outputs": [
    {
     "data": {
      "text/plain": [
       "(72094, 83)"
      ]
     },
     "execution_count": 41,
     "metadata": {},
     "output_type": "execute_result"
    }
   ],
   "source": [
    "df.shape"
   ]
  },
  {
   "cell_type": "code",
   "execution_count": 42,
   "id": "bd23d2ea-f0f3-4977-9aea-69cdbf3ff6ee",
   "metadata": {},
   "outputs": [
    {
     "data": {
      "text/plain": [
       "(66716, 83)"
      ]
     },
     "execution_count": 42,
     "metadata": {},
     "output_type": "execute_result"
    }
   ],
   "source": [
    "df[df['CHD_CrudePrev'] == 0].shape"
   ]
  },
  {
   "cell_type": "code",
   "execution_count": 70,
   "id": "de6adbe8-0064-4d40-9193-e92e0e97081a",
   "metadata": {},
   "outputs": [
    {
     "data": {
      "text/plain": [
       "5378"
      ]
     },
     "execution_count": 70,
     "metadata": {},
     "output_type": "execute_result"
    }
   ],
   "source": [
    "# Seeing how many rows are not 0\n",
    "72094-66716"
   ]
  },
  {
   "cell_type": "code",
   "execution_count": 44,
   "id": "a68daab2-5fe7-4edc-bc62-2f27d3dd5dba",
   "metadata": {},
   "outputs": [
    {
     "data": {
      "text/plain": [
       "61338"
      ]
     },
     "execution_count": 44,
     "metadata": {},
     "output_type": "execute_result"
    }
   ],
   "source": [
    "# Seeing how many rows need to be dropped from 0\n",
    "66716 - 5378"
   ]
  },
  {
   "cell_type": "code",
   "execution_count": 45,
   "id": "a0488fe3-2085-4339-bdb9-53431f8f383a",
   "metadata": {},
   "outputs": [],
   "source": [
    "# Randomly dropping 61338 rows to have 5378 0s and 1s \n",
    "np.random.seed(321)\n",
    "remove = 61338\n",
    "remove_0 = df.loc[(df['CHD_CrudePrev']==0)]\n",
    "drop = np.random.choice(remove_0.index, remove, replace = False)"
   ]
  },
  {
   "cell_type": "code",
   "execution_count": 46,
   "id": "f79eedd6-7e8b-430f-85b7-2ba6f82ec52a",
   "metadata": {},
   "outputs": [],
   "source": [
    "chd = df.drop(drop)"
   ]
  },
  {
   "cell_type": "code",
   "execution_count": 47,
   "id": "207eb7f0-c26b-4ece-a93c-7470272500e9",
   "metadata": {},
   "outputs": [],
   "source": [
    "corr = chd.corr()[['CHD_CrudePrev']]\n",
    "corr = corr.loc[corr['CHD_CrudePrev'] > .4]"
   ]
  },
  {
   "cell_type": "code",
   "execution_count": 48,
   "id": "34398199-4c0b-415e-a5c6-42176e0e3539",
   "metadata": {},
   "outputs": [
    {
     "data": {
      "image/png": "[encoded data removed]",
      "text/plain": [
       "<Figure size 576x720 with 2 Axes>"
      ]
     },
     "metadata": {
      "needs_background": "light"
     },
     "output_type": "display_data"
    }
   ],
   "source": [
    "plt.figure(figsize = (8,10))\n",
    "sns.heatmap(data = corr.sort_values(by = 'CHD_CrudePrev', ascending = False),\n",
    "           annot = True,\n",
    "           cmap = 'Reds',\n",
    "           linewidths=0.1,\n",
    "           vmin=-0.5,\n",
    "           vmax=1);"
   ]
  },
  {
   "cell_type": "markdown",
   "id": "f7d7f171-3cd1-4b52-be2a-0411dd2029bb",
   "metadata": {},
   "source": [
    "#### Modeling"
   ]
  },
  {
   "cell_type": "code",
   "execution_count": 49,
   "id": "8b5a7c6c-f259-4049-ab01-5ec16f5e7ef8",
   "metadata": {},
   "outputs": [],
   "source": [
    "X = chd._get_numeric_data().drop(columns = 'CHD_CrudePrev')\n",
    "y = chd['CHD_CrudePrev']"
   ]
  },
  {
   "cell_type": "code",
   "execution_count": 50,
   "id": "3c1534e4-8a72-450e-a814-84d6ee22ad61",
   "metadata": {},
   "outputs": [],
   "source": [
    "X_train, X_test, y_train, y_test = train_test_split(X,y, stratify = y, random_state = 321)"
   ]
  },
  {
   "cell_type": "markdown",
   "id": "1f4b2231-0ba7-4893-8221-f192ec95451c",
   "metadata": {},
   "source": [
    "#### Baseline"
   ]
  },
  {
   "cell_type": "code",
   "execution_count": 51,
   "id": "d041e909-4471-45e9-8cfe-476d6562c7e6",
   "metadata": {},
   "outputs": [
    {
     "data": {
      "text/plain": [
       "1    0.500062\n",
       "0    0.499938\n",
       "Name: CHD_CrudePrev, dtype: float64"
      ]
     },
     "execution_count": 51,
     "metadata": {},
     "output_type": "execute_result"
    }
   ],
   "source": [
    "y_train.value_counts(normalize = True)"
   ]
  },
  {
   "cell_type": "code",
   "execution_count": 52,
   "id": "4b314789-63f1-4b5e-8b44-4fb21ba87432",
   "metadata": {},
   "outputs": [],
   "source": [
    "ss = StandardScaler()\n",
    "Z_train = ss.fit_transform(X_train)\n",
    "Z_test = ss.transform(X_test)"
   ]
  },
  {
   "cell_type": "markdown",
   "id": "c0bcf223-27f6-471b-ba49-adb88fad4e18",
   "metadata": {},
   "source": [
    "#### Logistic Regression"
   ]
  },
  {
   "cell_type": "code",
   "execution_count": 53,
   "id": "167a4dee-86b1-47c8-97aa-467c78dbf897",
   "metadata": {},
   "outputs": [
    {
     "data": {
      "text/plain": [
       "LogisticRegression(C=1, solver='liblinear')"
      ]
     },
     "execution_count": 53,
     "metadata": {},
     "output_type": "execute_result"
    }
   ],
   "source": [
    "logreg = LogisticRegression(C = 1, penalty = 'l2', solver = 'liblinear')\n",
    "\n",
    "logreg.fit(Z_train, y_train)"
   ]
  },
  {
   "cell_type": "code",
   "execution_count": 54,
   "id": "680bfa3d-8181-479c-a897-392ff1b54a4e",
   "metadata": {},
   "outputs": [
    {
     "name": "stdout",
     "output_type": "stream",
     "text": [
      "LogReg Train Accuracy: 0.9871079707450106\n",
      "LogReg Test Accuracy: 0.9851245816288583\n"
     ]
    }
   ],
   "source": [
    "print(f'LogReg Train Accuracy: {logreg.score(Z_train, y_train)}')\n",
    "print(f'LogReg Test Accuracy: {logreg.score(Z_test, y_test)}')"
   ]
  },
  {
   "cell_type": "code",
   "execution_count": 55,
   "id": "54a3c0ab-5720-4528-abc1-5340605b0c78",
   "metadata": {},
   "outputs": [
    {
     "data": {
      "text/plain": [
       "0.9831416979913051"
      ]
     },
     "execution_count": 55,
     "metadata": {},
     "output_type": "execute_result"
    }
   ],
   "source": [
    "cross_val_score(logreg, Z_train, y_train, cv = 5).mean()"
   ]
  },
  {
   "cell_type": "code",
   "execution_count": 56,
   "id": "5e5a8522-e3b2-4338-855f-5835748d8ace",
   "metadata": {},
   "outputs": [
    {
     "data": {
      "image/png": "[encoded data removed]",
      "text/plain": [
       "<Figure size 432x288 with 1 Axes>"
      ]
     },
     "metadata": {
      "needs_background": "light"
     },
     "output_type": "display_data"
    }
   ],
   "source": [
    "preds_logreg = logreg.predict(Z_test)\n",
    "\n",
    "tn, fp, fn, tp = confusion_matrix(y_test, preds_logreg).ravel()\n",
    "plt.rcParams.update({'font.size': 12}) \n",
    "plot_confusion_matrix(logreg, Z_test, y_test, cmap = 'PuRd',colorbar = False, display_labels = ['Low Risk','Int/High Risk']);\n",
    "plt.title('Logistic Regression');"
   ]
  },
  {
   "cell_type": "code",
   "execution_count": 57,
   "id": "8a2ac417-24c2-4e69-a247-3644bedadacb",
   "metadata": {},
   "outputs": [
    {
     "data": {
      "text/plain": [
       "array([[ 2.51041525e-01,  2.51085826e-01, -2.09728362e-01,\n",
       "        -7.75052178e-03,  1.66364193e+00,  2.75922073e-01,\n",
       "        -5.65412741e-01,  4.52849156e-01,  3.59159295e+00,\n",
       "        -2.82035152e+00, -1.32998777e+00, -1.23756652e+00,\n",
       "        -1.01870566e+00, -3.05388797e-01,  5.40408563e+00,\n",
       "         3.85524107e-01, -3.77482799e-02,  1.08743021e+00,\n",
       "         2.86817688e-01,  1.29888129e+00,  1.24970521e+00,\n",
       "         5.05799556e+00,  2.02034659e-01,  2.00792007e-01,\n",
       "        -2.13360123e+00, -3.88834397e-01,  3.02311544e+00,\n",
       "        -1.01177650e+00,  3.36737445e+00, -8.29742824e-01,\n",
       "         4.86174050e-01,  3.71741184e-01, -2.02422554e-01,\n",
       "        -5.34045219e-01, -3.29201420e-01,  3.46528811e-01,\n",
       "         1.54914402e-01,  1.15769429e-01,  1.58891391e-01,\n",
       "        -3.28670807e-01,  2.65657579e-01, -1.73426360e-01,\n",
       "        -2.56323534e-02, -4.91335762e-01, -1.83309588e-01,\n",
       "        -7.88935557e-02,  6.51413847e-01,  9.17136178e-02,\n",
       "         3.08052782e-01, -2.00199123e-01,  4.45499856e-01,\n",
       "         1.60588067e-01, -1.42296206e-01, -4.57239873e-01,\n",
       "        -1.12164767e-01, -7.89414106e-02,  1.01825040e-01,\n",
       "        -2.96584925e-03, -2.67016346e-01,  1.76588715e-01,\n",
       "         2.61202465e-02, -1.62527592e-01, -6.27095967e-02,\n",
       "         6.08579842e-01,  1.29993180e-01,  3.92775619e-01,\n",
       "        -1.57521755e-01, -1.86249106e-01,  1.77486699e-01,\n",
       "        -3.23379445e-01,  1.45327479e-01, -7.60042256e-02,\n",
       "         4.98017412e-02,  4.33675339e-02, -3.31574883e-01,\n",
       "         1.92449852e-01, -2.07038859e-01, -4.59242189e-01,\n",
       "         6.85153363e-01,  4.10770074e-02]])"
      ]
     },
     "execution_count": 57,
     "metadata": {},
     "output_type": "execute_result"
    }
   ],
   "source": [
    "logreg.coef_"
   ]
  },
  {
   "cell_type": "markdown",
   "id": "67f4d0eb-c574-4bfd-80dd-bb76c908e50f",
   "metadata": {},
   "source": [
    "#### KNN "
   ]
  },
  {
   "cell_type": "code",
   "execution_count": 58,
   "id": "487e28e7-f0a4-455a-b9ca-635ff26f7fa3",
   "metadata": {},
   "outputs": [],
   "source": [
    "ss = StandardScaler()\n",
    "Z_train = ss.fit_transform(X_train)\n",
    "Z_test = ss.transform(X_test)"
   ]
  },
  {
   "cell_type": "code",
   "execution_count": 59,
   "id": "7ff1fb28-6173-4fd7-b8cd-1813d65403ba",
   "metadata": {},
   "outputs": [],
   "source": [
    "kn = KNeighborsClassifier(n_neighbors = 3)"
   ]
  },
  {
   "cell_type": "code",
   "execution_count": 60,
   "id": "ce87d463-6ca3-4ff0-a24d-b194a2424dbd",
   "metadata": {},
   "outputs": [
    {
     "data": {
      "text/plain": [
       "KNeighborsClassifier(n_neighbors=3)"
      ]
     },
     "execution_count": 60,
     "metadata": {},
     "output_type": "execute_result"
    }
   ],
   "source": [
    "kn.fit(Z_train, y_train)"
   ]
  },
  {
   "cell_type": "code",
   "execution_count": 61,
   "id": "664d7e7d-890f-42c5-beed-3785cd29c848",
   "metadata": {},
   "outputs": [
    {
     "name": "stdout",
     "output_type": "stream",
     "text": [
      "KNN Train Accuracy: 0.9766951778852113\n",
      "KNN Test Accuracy: 0.9527705466716251\n"
     ]
    }
   ],
   "source": [
    "print(f'KNN Train Accuracy: {kn.score(Z_train, y_train)}')\n",
    "print(f'KNN Test Accuracy: {kn.score(Z_test, y_test)}')"
   ]
  },
  {
   "cell_type": "code",
   "execution_count": 62,
   "id": "db0c25b6-b992-4faf-84e3-ea53d05964fb",
   "metadata": {},
   "outputs": [
    {
     "data": {
      "text/plain": [
       "0.952770742057831"
      ]
     },
     "execution_count": 62,
     "metadata": {},
     "output_type": "execute_result"
    }
   ],
   "source": [
    "cross_val_score(kn, Z_train, y_train, cv = 5).mean()"
   ]
  },
  {
   "cell_type": "code",
   "execution_count": 63,
   "id": "3798af81-d88e-4d37-b73d-8583be269d04",
   "metadata": {},
   "outputs": [
    {
     "data": {
      "image/png": "[encoded data removed]",
      "text/plain": [
       "<Figure size 432x288 with 1 Axes>"
      ]
     },
     "metadata": {
      "needs_background": "light"
     },
     "output_type": "display_data"
    }
   ],
   "source": [
    "preds_kn = kn.predict(Z_test)\n",
    "\n",
    "tn, fp, fn, tp = confusion_matrix(y_test, preds_kn).ravel()\n",
    "plt.rcParams.update({'font.size': 12}) \n",
    "plot_confusion_matrix(kn, Z_test, y_test, cmap = 'PuRd',colorbar = False, display_labels = ['Low Risk','Int/High Risk']);\n",
    "plt.title('KNN');"
   ]
  },
  {
   "cell_type": "markdown",
   "id": "86a6b863-da31-43e0-9256-ecc84b291622",
   "metadata": {},
   "source": [
    "#### BNB"
   ]
  },
  {
   "cell_type": "code",
   "execution_count": 64,
   "id": "cc5950f7-bf57-485e-bb5f-15d80a919f20",
   "metadata": {},
   "outputs": [],
   "source": [
    "ss = StandardScaler()\n",
    "Z_train = ss.fit_transform(X_train)\n",
    "Z_test = ss.transform(X_test)"
   ]
  },
  {
   "cell_type": "code",
   "execution_count": 65,
   "id": "21639f63-377a-4cd5-b596-69ba155c57a1",
   "metadata": {},
   "outputs": [
    {
     "data": {
      "text/plain": [
       "BernoulliNB()"
      ]
     },
     "execution_count": 65,
     "metadata": {},
     "output_type": "execute_result"
    }
   ],
   "source": [
    "bnb = BernoulliNB()\n",
    "bnb.fit(Z_train, y_train)"
   ]
  },
  {
   "cell_type": "code",
   "execution_count": 66,
   "id": "5a30e8b9-25cb-4bfc-a574-1bb4c1ba9945",
   "metadata": {},
   "outputs": [
    {
     "name": "stdout",
     "output_type": "stream",
     "text": [
      "BernoulliNB Train Accuracy: 0.9098797570348333\n",
      "BernoulliNB Test Accuracy Logreg: 0.9077724060989215\n"
     ]
    }
   ],
   "source": [
    "print(f'BernoulliNB Train Accuracy: {bnb.score(Z_train, y_train)}')\n",
    "print(f'BernoulliNB Test Accuracy Logreg: {bnb.score(Z_test, y_test)}')"
   ]
  },
  {
   "cell_type": "code",
   "execution_count": 67,
   "id": "d72074e7-9f79-484c-a4b5-c688b722f1e6",
   "metadata": {},
   "outputs": [
    {
     "data": {
      "text/plain": [
       "0.9095084009953206"
      ]
     },
     "execution_count": 67,
     "metadata": {},
     "output_type": "execute_result"
    }
   ],
   "source": [
    "cross_val_score(bnb, Z_train, y_train, cv = 5).mean()"
   ]
  },
  {
   "cell_type": "code",
   "execution_count": 68,
   "id": "327ece85-1227-4811-9bc5-6f4cee6663ea",
   "metadata": {
    "tags": []
   },
   "outputs": [
    {
     "data": {
      "image/png": "[encoded data removed]",
      "text/plain": [
       "<Figure size 432x288 with 1 Axes>"
      ]
     },
     "metadata": {
      "needs_background": "light"
     },
     "output_type": "display_data"
    }
   ],
   "source": [
    "preds_bnb = bnb.predict(Z_test)\n",
    "\n",
    "tn, fp, fn, tp = confusion_matrix(y_test, preds_kn).ravel()\n",
    "plt.rcParams.update({'font.size': 12}) \n",
    "plot_confusion_matrix(bnb, Z_test, y_test, cmap = 'PuRd',colorbar = False, display_labels = ['Low Risk','Int/High Risk']);\n",
    "plt.title('KNN');"
   ]
  },
  {
   "cell_type": "markdown",
   "id": "d9207362-eab4-4c9c-8f6f-a6417c7f0be3",
   "metadata": {},
   "source": [
    "#### Classification Results"
   ]
  },
  {
   "cell_type": "code",
   "execution_count": 69,
   "id": "73ab5c7b-d74a-4046-abb7-acc86ad20c22",
   "metadata": {},
   "outputs": [
    {
     "name": "stdout",
     "output_type": "stream",
     "text": [
      "LogReg Train Accuracy: 0.9871079707450106\n",
      "LogReg Test Accuracy: 0.9851245816288583\n",
      "------------------\n",
      "KNN Train Accuracy: 0.9766951778852113\n",
      "KNN Test Accuracy: 0.9527705466716251\n",
      "------------------\n",
      "BernoulliNB Train Accuracy: 0.9098797570348333\n",
      "BernoulliNB Test Accuracy Logreg: 0.9077724060989215\n"
     ]
    }
   ],
   "source": [
    "print(f'LogReg Train Accuracy: {logreg.score(Z_train, y_train)}')\n",
    "print(f'LogReg Test Accuracy: {logreg.score(Z_test, y_test)}')\n",
    "print('------------------')\n",
    "print(f'KNN Train Accuracy: {kn.score(Z_train, y_train)}')\n",
    "print(f'KNN Test Accuracy: {kn.score(Z_test, y_test)}')\n",
    "print('------------------')\n",
    "print(f'BernoulliNB Train Accuracy: {bnb.score(Z_train, y_train)}')\n",
    "print(f'BernoulliNB Test Accuracy Logreg: {bnb.score(Z_test, y_test)}')"
   ]
  }
 ],
 "metadata": {
  "kernelspec": {
   "display_name": "Python 3 (ipykernel)",
   "language": "python",
   "name": "python3"
  },
  "language_info": {
   "codemirror_mode": {
    "name": "ipython",
    "version": 3
   },
   "file_extension": ".py",
   "mimetype": "text/x-python",
   "name": "python",
   "nbconvert_exporter": "python",
   "pygments_lexer": "ipython3",
   "version": "3.9.6"
  }
 },
 "nbformat": 4,
 "nbformat_minor": 5
}
